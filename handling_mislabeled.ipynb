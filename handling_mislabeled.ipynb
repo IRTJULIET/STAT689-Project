{
 "cells": [
  {
   "cell_type": "code",
   "execution_count": 1,
   "metadata": {},
   "outputs": [
    {
     "name": "stderr",
     "output_type": "stream",
     "text": [
      "/Users/subsid/.virtualenvs/p3/lib/python3.6/site-packages/sklearn/cross_validation.py:41: DeprecationWarning: This module was deprecated in version 0.18 in favor of the model_selection module into which all the refactored classes and functions are moved. Also note that the interface of the new CV iterators are different from that of this module. This module will be removed in 0.20.\n",
      "  \"This module will be removed in 0.20.\", DeprecationWarning)\n"
     ]
    }
   ],
   "source": [
    "from sklearn.cross_validation import train_test_split\n",
    "from sklearn.linear_model import LogisticRegression\n",
    "from sklearn.ensemble import RandomForestClassifier\n",
    "from sklearn.model_selection import KFold\n",
    "import numpy as np"
   ]
  },
  {
   "cell_type": "code",
   "execution_count": 2,
   "metadata": {},
   "outputs": [],
   "source": [
    "## computes the p_i for any x_i and beta\n",
    "def logistic(x,beta):\n",
    "    return( 1 / (1+np.exp(-np.sum(x*beta))))\n",
    "\n",
    "def generate_mislabeled_data(n, alpha):\n",
    "    x = np.linspace(-5,5,num=n)\n",
    "    beta = np.array([3.,1.])\n",
    "    X = np.column_stack((np.ones(n),x))\n",
    "\n",
    "    p = np.apply_along_axis(lambda y: logistic(y,beta),1,X)\n",
    "\n",
    "    ## simulate responses\n",
    "    y = np.random.binomial(n=1,p=p)\n",
    "\n",
    "    ## contamination level alpha\n",
    "    z = np.random.binomial(n=1,p=1-alpha,size=n)\n",
    "    r = np.random.binomial(n=1,p=0.5,size=n)\n",
    "\n",
    "    ## we observe data w\n",
    "    w = y*z + r*(1-z)\n",
    "    \n",
    "    return X, w"
   ]
  },
  {
   "cell_type": "code",
   "execution_count": 3,
   "metadata": {},
   "outputs": [],
   "source": [
    "def identifyMisLabeled(X_train, Y_train, X_test, Y_test, clf, test_index, mismatches):\n",
    "    # train scikit learn model\n",
    "    clf.fit(X_train, Y_train)\n",
    "    Y_pred = clf.predict(X_test)\n",
    "    i = 0\n",
    "    for d, c in zip(Y_test, Y_pred):\n",
    "        if(d != c):\n",
    "            mismatches[test_index[i]] += 1\n",
    "        i += 1"
   ]
  },
  {
   "cell_type": "code",
   "execution_count": 13,
   "metadata": {},
   "outputs": [
    {
     "name": "stdout",
     "output_type": "stream",
     "text": [
      "Original dataset size :  1000\n",
      "Score without removing Mislabeled Data:  0.84\n",
      "Dataset size after removing Mislabeled Data :  1000\n",
      "Score after removing Mislabeled Data:  0.948616600791\n"
     ]
    }
   ],
   "source": [
    "# Training Dataset created with some contamination level\n",
    "X_orig, Y_orig = generate_mislabeled_data(1000, 0.4)\n",
    "\n",
    "# Test Dataset created with no contamination level\n",
    "X_test, Y_test = generate_mislabeled_data(10000, 0.0)\n",
    "\n",
    "kf = KFold(n_splits=10)\n",
    "\n",
    "# Array of mismatches is created to store the number of times\n",
    "# element at that index is identified as mislabeled by different models.\n",
    "mismatches = np.zeros(shape = Y_orig.shape)\n",
    "\n",
    "# For each combination of splits using cross-validation\n",
    "for train_index, test_index in kf.split(X_orig):\n",
    "    X_train, X_test = X_orig[train_index], X_orig[test_index]\n",
    "    Y_train, Y_test = Y_orig[train_index], Y_orig[test_index]\n",
    "\n",
    "    # LogisticRegressionClassifier\n",
    "    identifyMisLabeled(X_train, Y_train, X_test, Y_test, LogisticRegression(), test_index, mismatches)\n",
    "\n",
    "    # RandomForestClassifier\n",
    "    identifyMisLabeled(X_train, Y_train, X_test, Y_test, RandomForestClassifier(max_depth=2, random_state=0),\n",
    "                       test_index, mismatches)\n",
    "\n",
    "print('Original dataset size : ', X_orig.shape[0])\n",
    "\n",
    "# X_train,X_test,Y_train,Y_test = train_test_split(X,Y,test_size=0.33)\n",
    "clf = LogisticRegression()\n",
    "clf.fit(X_orig, Y_orig)\n",
    "print('Score without removing Mislabeled Data: ', clf.score(X_test, Y_test))\n",
    "\n",
    "# Removing all the entries which are counted as mislabed by both classifiers\n",
    "indexes = np.where(mismatches > 1)[0]\n",
    "X_filtered = np.delete(X_orig, indexes, 0)\n",
    "Y_filtered = np.delete(Y_orig, indexes)\n",
    "\n",
    "print('Dataset size after removing Mislabeled Data : ', X_orig.shape[0])\n",
    "\n",
    "X_train,X_test,Y_train,Y_test = train_test_split(X_filtered,Y_filtered,test_size=0.33)\n",
    "clf = LogisticRegression()\n",
    "clf.fit(X_train, Y_train)\n",
    "print('Score after removing Mislabeled Data: ', clf.score(X_test, Y_test))"
   ]
  },
  {
   "cell_type": "code",
   "execution_count": 12,
   "metadata": {},
   "outputs": [
    {
     "data": {
      "text/plain": [
       "[<matplotlib.lines.Line2D at 0x100648160>,\n",
       " <matplotlib.lines.Line2D at 0x100648320>]"
      ]
     },
     "execution_count": 12,
     "metadata": {},
     "output_type": "execute_result"
    },
    {
     "data": {
      "image/png": "[encoded data removed]",
      "text/plain": [
       "<matplotlib.figure.Figure at 0x109f84710>"
      ]
     },
     "metadata": {},
     "output_type": "display_data"
    }
   ],
   "source": [
    "%matplotlib inline\n",
    "import matplotlib.pyplot as plt\n",
    "fig=plt.figure(figsize=(10, 5), dpi= 80, facecolor='w', edgecolor='k')\n",
    "plt.style.use('seaborn-whitegrid')\n",
    "plt.plot(X_orig,Y_orig,'o',color='black')\n",
    "plt.plot(x,p)\n",
    "plt.xlabel(\"x\")\n",
    "plt.ylabel(\"y\")\n",
    "# plt.ylim(-.1,1.1);"
   ]
  }
 ],
 "metadata": {
  "kernelspec": {
   "display_name": "Python 3",
   "language": "python",
   "name": "python3"
  },
  "language_info": {
   "codemirror_mode": {
    "name": "ipython",
    "version": 3
   },
   "file_extension": ".py",
   "mimetype": "text/x-python",
   "name": "python",
   "nbconvert_exporter": "python",
   "pygments_lexer": "ipython3",
   "version": "3.6.5"
  }
 },
 "nbformat": 4,
 "nbformat_minor": 2
}
