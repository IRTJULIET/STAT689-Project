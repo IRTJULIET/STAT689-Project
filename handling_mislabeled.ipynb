{
 "cells": [
  {
   "cell_type": "code",
   "execution_count": 13,
   "metadata": {},
   "outputs": [],
   "source": [
    "from sklearn.cross_validation import train_test_split\n",
    "from sklearn.linear_model import LogisticRegression\n",
    "from sklearn.ensemble import RandomForestClassifier\n",
    "from sklearn.model_selection import KFold\n",
    "import numpy as np"
   ]
  },
  {
   "cell_type": "code",
   "execution_count": 21,
   "metadata": {},
   "outputs": [],
   "source": [
    "## computes the p_i for any x_i and beta\n",
    "def logistic(x,beta):\n",
    "    return( 1 / (1+np.exp(-np.sum(x*beta))))\n",
    "\n",
    "def generate_mislabeled_data(n, alpha):\n",
    "    x = np.linspace(-5,5,num=n)\n",
    "    beta = np.array([3.,1.])\n",
    "    X = np.column_stack((np.ones(n),x))\n",
    "\n",
    "    p = np.apply_along_axis(lambda y: logistic(y,beta),1,X)\n",
    "\n",
    "    ## simulate responses\n",
    "    y = np.random.binomial(n=1,p=p)\n",
    "\n",
    "    ## contamination level alpha\n",
    "    z = np.random.binomial(n=1,p=1-alpha,size=n)\n",
    "    r = np.random.binomial(n=1,p=0.5,size=n)\n",
    "\n",
    "    ## we observe data w\n",
    "    w = y*z + r*(1-z)\n",
    "    \n",
    "    return X, w"
   ]
  },
  {
   "cell_type": "code",
   "execution_count": 23,
   "metadata": {},
   "outputs": [],
   "source": [
    "def identifyMisLabeled(X_train, Y_train, X_test, Y_test, clf, test_index, mismatches):\n",
    "    # train scikit learn model\n",
    "    clf.fit(X_train, Y_train)\n",
    "    Y_pred = clf.predict(X_test)\n",
    "    i = 0\n",
    "    for d, c in zip(Y_test, Y_pred):\n",
    "        if(d != c):\n",
    "            mismatches[test_index[i]] += 1\n",
    "        i += 1"
   ]
  },
  {
   "cell_type": "code",
   "execution_count": 24,
   "metadata": {},
   "outputs": [
    {
     "name": "stdout",
     "output_type": "stream",
     "text": [
      "Original dataset size :  100000\n",
      "Score without removing Mislabeled Data:  0.7965\n",
      "Dataset size after removing Mislabeled Data :  76221\n",
      "Score after removing Mislabeled Data:  0.949111437999\n"
     ]
    }
   ],
   "source": [
    "# Training Dataset created with some contamination level\n",
    "X_orig, Y_orig = generate_mislabeled_data(100000, 0.4)\n",
    "\n",
    "# Test Dataset created with no contamination level\n",
    "X_test, Y_test = generate_mislabeled_data(10000, 0.0)\n",
    "\n",
    "kf = KFold(n_splits=10)\n",
    "\n",
    "# Array of mismatches is created to store the number of times\n",
    "# element at that index is identified as mislabeled by different models.\n",
    "mismatches = np.zeros(shape = Y_orig.shape)\n",
    "\n",
    "# For each combination of splits using cross-validation\n",
    "for train_index, test_index in kf.split(X_orig):\n",
    "    X_train, X_test = X_orig[train_index], X_orig[test_index]\n",
    "    Y_train, Y_test = Y_orig[train_index], Y_orig[test_index]\n",
    "\n",
    "    # LogisticRegressionClassifier\n",
    "    identifyMisLabeled(X_train, Y_train, X_test, Y_test, LogisticRegression(), test_index, mismatches)\n",
    "\n",
    "    # RandomForestClassifier\n",
    "    identifyMisLabeled(X_train, Y_train, X_test, Y_test, RandomForestClassifier(max_depth=2, random_state=0),\n",
    "                       test_index, mismatches)\n",
    "\n",
    "print('Original dataset size : ', X_orig.shape[0])\n",
    "\n",
    "# X_train,X_test,Y_train,Y_test = train_test_split(X,Y,test_size=0.33)\n",
    "clf = LogisticRegression()\n",
    "clf.fit(X_orig, Y_orig)\n",
    "print('Score without removing Mislabeled Data: ', clf.score(X_test, Y_test))\n",
    "\n",
    "# Removing all the entries which are counted as mislabed by both classifiers\n",
    "indexes = np.where(mismatches > 1)[0]\n",
    "X_orig = np.delete(X_orig, indexes, 0)\n",
    "Y_orig = np.delete(Y_orig, indexes)\n",
    "\n",
    "print('Dataset size after removing Mislabeled Data : ', X_orig.shape[0])\n",
    "\n",
    "X_train,X_test,Y_train,Y_test = train_test_split(X_orig,Y_orig,test_size=0.33)\n",
    "clf = LogisticRegression()\n",
    "clf.fit(X_train, Y_train)\n",
    "print('Score after removing Mislabeled Data: ', clf.score(X_test, Y_test))"
   ]
  }
 ],
 "metadata": {
  "kernelspec": {
   "display_name": "Python 3",
   "language": "python",
   "name": "python3"
  },
  "language_info": {
   "codemirror_mode": {
    "name": "ipython",
    "version": 3
   },
   "file_extension": ".py",
   "mimetype": "text/x-python",
   "name": "python",
   "nbconvert_exporter": "python",
   "pygments_lexer": "ipython3",
   "version": "3.6.5"
  }
 },
 "nbformat": 4,
 "nbformat_minor": 2
}
