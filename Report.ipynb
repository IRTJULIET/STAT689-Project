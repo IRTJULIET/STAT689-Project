{
 "cells": [
  {
   "cell_type": "markdown",
   "metadata": {},
   "source": [
    "# Handling mislabeled training data for classification\n",
    "\n",
    "### TAMU 689-Stat Computing Course Project (https://longjp.github.io/statcomp/)"
   ]
  },
  {
   "cell_type": "markdown",
   "metadata": {},
   "source": [
    "### What is mislabeled data?\n",
    "\n",
    "- Data for classification problems in supervised learning, usually consists of a set of feature attributes and a class attribute.\n",
    "\n",
    "Tranining Data Point:  $(x_1, x_2, x_3, …, x_n, y)$\n",
    "A data point is considered *mislabeled* if class y is incorrect. Eg. lets say we want to classify images whether the image is of dog or cat. If image is of cat, we say the class as 1. Following is the training data:\n",
    "\n",
    "![title](img/cat_classification.png)\n",
    "\n",
    "In above data, we can see that, there is one data point which is incorrectly labeled, i.e. white puppy, 2nd from right, is labeled as cat."
   ]
  },
  {
   "cell_type": "markdown",
   "metadata": {},
   "source": [
    "### Reasons for Mislabeling data\n",
    "\n",
    "Following are the main reasons of why mislabeling happens in the training data:\n",
    "\n",
    "- **Subjectivity**: It can arise when observations need to be ranked in some way such as disease severity or when the information used to classify object is different from information to which learning algorithm have access. Eg. experts labeling the images, they normally use their visual input rather than each pixel of the image. \n",
    "- **Data Entry Error**: It can arise when the training dataset is prepared due to manual error.\n",
    "- **Inadequate Information**: It can arise when the information used to label each information is insufficient. Eg. in medical diagnosis, it is almost impossible to guarantee that a diagnosis is 100% accurate."
   ]
  },
  {
   "cell_type": "markdown",
   "metadata": {},
   "source": [
    "### Methods for handling Mislabeling\n",
    "\n",
    "- **Noise Elimination**: In this approach, mislabeled data points are removed and then learning classifier is applied on the remaining dataset.\n",
    "- **Noise Tolerance**: In this approach, mislabeled data points are not removed and the learning classifier is applied on the original training data. \n",
    "\n",
    "Our ideas are based on Noise elimination approach. We discuss 2 ideas in our project to identify mislabeled instances. First one is a general approach and second one is more specific. "
   ]
  },
  {
   "cell_type": "markdown",
   "metadata": {},
   "source": [
    "### IDEA 1(General)\n",
    "\n",
    "This idea is taken from paper \"C. E Brodley and M. A. Friedl (1999) \"Identifying Mislabeled Training Data\". It describes the general procedure for identifying the mislabeled instances in a training set. It consists of following steps:\n",
    "1. Identify candidate instance by using m learning algorithms(or filters) to tag them as correctly or incorrectly labeled. This is done in following way:\n",
    "    -  Divide training data into n folds\n",
    "    -  Train a filtering model on (n-1) folds using m learning algorithms, and add a *mislabeled* class attribute to the examples in the nth fold using the same m classifiers. \n",
    "    -  Repeat this for n folds\n",
    "    -  In end, all instances have been tagged as mislabeled or not. \n",
    "2. Now, on this mislabeled training dataset, apply the filtering approach to remove all the mislabeled instances. \n",
    "3. Apply the final learning algorithm on the filtered training instances. This resulting classifier is end product of this approach.\n",
    "\n",
    "Figure below depicts this idea:\n",
    "\n",
    "\n",
    "![title](img/filtering.png)"
   ]
  },
  {
   "cell_type": "markdown",
   "metadata": {},
   "source": [
    "### Types of Filtering approaches\n",
    "\n",
    "There are 3 types of filtering approaches we tried and compared them:\n",
    "- Single Algorithm Filter\n",
    "    -  Filtering is done by one algorithm\n",
    "    -  Instance is marked as mislabeled if this algorithm tagged it as mislabeled\n",
    "- Majority Vote Filter\n",
    "    -  Filtering is done by multiple algorithms\n",
    "    -  Instance is marked as mislabeled if more than half of the algorithms tagged it as mislabeled\n",
    "- Consensus Filter\n",
    "    -  Filtering is done by multiple algorithms\n",
    "    -  Instance is marked as mislabeled if all of the algorithms tagged it as mislabeled"
   ]
  },
  {
   "cell_type": "markdown",
   "metadata": {},
   "source": [
    "### Identification Errors\n",
    "\n",
    "In identifying mislabeled instances, there are 2 types of errors that can be made:\n",
    "1. E1 - This occurs when a correct instances is incorrectly tagged as mislabeled and subsequently discarded. This is equivalent to throwing out the good data.\n",
    "2. E2 - This occurs when a mislabeled instance is tagged as correctly labeled. This is equivalent of keeping the bad data after filtering.\n",
    "\n",
    "Below is the figure showing E1 and E2 in the training instances space in form of Venn Diagram\n",
    "\n",
    "<img src=\"img/identification_errors.png\" alt=\"Drawing\" style=\"width: 500px;\"/>\n",
    "\n",
    "Now, we analyze the probability of each of these errors in majority and consensus filter."
   ]
  },
  {
   "cell_type": "markdown",
   "metadata": {},
   "source": [
    "<h4>1. Majority Filter</h4>\n",
    "\n",
    "In case of Majority filter, E1 occurs when more than half of the m-base level classifiers tagged the instance as mislabeled. Let $P(E1_i)$ be the probability that classifier i makes an error E1 and assume that all the m-base level classifiers have equal probability to make an error E1. Then, the probability of the majority vote filter to make  an error E1 is given by:\n",
    "\n",
    "<h4><center>$P(E1) = \\sum_{j>m/2}^{j=m} P(E1_i)^j (1 - P(E1_i))^{m-j}{m \\choose j}$</center></h4>\n",
    "\n",
    "The error E2 occurs when more than half of the m-base level classifiers tagged the incorrect instance as correctly labeled and hence the instance is not removed. Let $P(E2_i)$ be the probability that classifier i makes an error E2 and assume errors are independent. Then, the probability that the majority vote filter would make an error E2 is given by:\n",
    "\n",
    "<h4><center>$P(E2) = \\sum_{j>m/2}^{j=m} P(E2_i)^j (1 - P(E2_i))^{m-j}{m \\choose j}$</center></h4>\n",
    "\n",
    "<h4>2. Consensus Filter</h4>\n",
    "\n",
    "For a consensus filter, an E1 error occurs when all of the m base level classifiers fail to classify instance correctly. Let $P(E1_i)$ be the probability that classifier i makes error E1. Then, the probability of the consensus filter to make  an error E1 is given by:\n",
    "\n",
    "<h4><center>$P(E1) = \\prod_{i=1}^{m} P(E1_i)$</center></h4>\n",
    "\n",
    "The error E2 in case of consensus filter occurs when a incorrect instance is tagged as correct by atleast one of m-base level classifiers. Let $P(E2_i)$ be the probability that classifier i makes error E2. Then, the probability of the consensus filter to make  an error E2 is given by:\n",
    "\n",
    "<h4><center>$P(E2) = 1 - \\prod_{i=1}^{m} (1 - P(E2_i))$</center></h4>"
   ]
  },
  {
   "cell_type": "markdown",
   "metadata": {},
   "source": [
    "#### E1 and E2 General Formula:\n",
    "\n",
    "A general formula to calculate the probability of throwing out good data(E1) is :\n",
    "\n",
    "<h3><center>$P(E1) = \\frac{Discarded - Intersect}{Total-Corrupted} = \\frac{D - M \\cap D}{Total - M}$</center></h3>\n",
    "\n",
    "Similarly, general formula to calculate the probability of keeping bad data(E2) is :\n",
    "\n",
    "<h3><center>$P(E2) = \\frac{Corrupted - Intersect}{Corrupted} = \\frac{M - M \\cap D}{M}$</center></h3>\n",
    "\n",
    "These are the formulas we have used in our code to calculate P(E1) and P(E2). These formulas are evident from the Venn diagram shown above."
   ]
  },
  {
   "cell_type": "markdown",
   "metadata": {},
   "source": [
    "### Code Results & Evaluation\n",
    "\n",
    "We have written the code in Python to evaluate the different types of filtering approach discussed above. First we implemented the approach and then we apply a wrapper on top of that to vary the inputs to that implementation which changes Noise level, classifiers and filtering types. We shows the accuracy of different filtering approaches by varying noise levels in the training data. Also, we show the E1 and E2 errors by varying noise levels and filtering approaches. \n",
    "\n",
    "Evaluation is done on MNIST dataset. The training is done on 10000 images and test data comprises of 1000 images. We add noise to training data and test dataset is kept clean. We used different classifier algorithms for different filtering approaches. We always used Logistic Regression as the final classifier model to keep the results consistent among different filtering approaches. Below is the list of filtering algorithms used in each filtering approach:\n",
    "\n",
    "- **Single Algorithm Filter(SF)** : Logistic Regression\n",
    "- **Majority Filter(MF)** : Logistic Regression, Random Forest Classifier, MLP Classifier\n",
    "- **Consensus Filter(CF)** : Logistic Regression, Random Forest Classifier, MLP Classifier\n",
    "\n",
    "Noise level used = [0%, 5%, 10%, 15%, 20%, 25%, 30%, 35%, 40%]"
   ]
  },
  {
   "cell_type": "markdown",
   "metadata": {},
   "source": [
    "Below is the result from the code showing accuracy and errors E1, E2 for different noise levels and different approaches:"
   ]
  },
  {
   "cell_type": "code",
   "execution_count": 3,
   "metadata": {},
   "outputs": [
    {
     "name": "stdout",
     "output_type": "stream",
     "text": [
      "Running for noise level =  0.0  and filtering =  False  and filtering type =  None\n",
      "Running for noise level =  0.0  and filtering =  True  and filtering type =  SF\n",
      "Running for noise level =  0.0  and filtering =  True  and filtering type =  MF\n",
      "Running for noise level =  0.0  and filtering =  True  and filtering type =  CF\n",
      "Running for noise level =  0.05  and filtering =  False  and filtering type =  None\n",
      "Running for noise level =  0.05  and filtering =  True  and filtering type =  SF\n",
      "Running for noise level =  0.05  and filtering =  True  and filtering type =  MF\n",
      "Running for noise level =  0.05  and filtering =  True  and filtering type =  CF\n",
      "Running for noise level =  0.1  and filtering =  False  and filtering type =  None\n",
      "Running for noise level =  0.1  and filtering =  True  and filtering type =  SF\n",
      "Running for noise level =  0.1  and filtering =  True  and filtering type =  MF\n",
      "Running for noise level =  0.1  and filtering =  True  and filtering type =  CF\n",
      "Running for noise level =  0.15  and filtering =  False  and filtering type =  None\n",
      "Running for noise level =  0.15  and filtering =  True  and filtering type =  SF\n",
      "Running for noise level =  0.15  and filtering =  True  and filtering type =  MF\n",
      "Running for noise level =  0.15  and filtering =  True  and filtering type =  CF\n",
      "Running for noise level =  0.2  and filtering =  False  and filtering type =  None\n",
      "Running for noise level =  0.2  and filtering =  True  and filtering type =  SF\n",
      "Running for noise level =  0.2  and filtering =  True  and filtering type =  MF\n",
      "Running for noise level =  0.2  and filtering =  True  and filtering type =  CF\n",
      "Running for noise level =  0.25  and filtering =  False  and filtering type =  None\n",
      "Running for noise level =  0.25  and filtering =  True  and filtering type =  SF\n",
      "Running for noise level =  0.25  and filtering =  True  and filtering type =  MF\n",
      "Running for noise level =  0.25  and filtering =  True  and filtering type =  CF\n",
      "Running for noise level =  0.3  and filtering =  False  and filtering type =  None\n",
      "Running for noise level =  0.3  and filtering =  True  and filtering type =  SF\n",
      "Running for noise level =  0.3  and filtering =  True  and filtering type =  MF\n",
      "Running for noise level =  0.3  and filtering =  True  and filtering type =  CF\n",
      "Running for noise level =  0.35  and filtering =  False  and filtering type =  None\n",
      "Running for noise level =  0.35  and filtering =  True  and filtering type =  SF\n",
      "Running for noise level =  0.35  and filtering =  True  and filtering type =  MF\n",
      "Running for noise level =  0.35  and filtering =  True  and filtering type =  CF\n",
      "Running for noise level =  0.4  and filtering =  False  and filtering type =  None\n",
      "Running for noise level =  0.4  and filtering =  True  and filtering type =  SF\n",
      "Running for noise level =  0.4  and filtering =  True  and filtering type =  MF\n",
      "Running for noise level =  0.4  and filtering =  True  and filtering type =  CF\n",
      "Noise Level :  0.0\n",
      "Filter: None : Accuracy =  0.853\n",
      "Filter: SF : Accuracy =  0.863 , P(E1) =  0.15055555555555555 , P(E2) =  0\n",
      "Filter: MF : Accuracy =  0.861 , P(E1) =  0.15477777777777776 , P(E2) =  0\n",
      "Filter: CF : Accuracy =  0.859 , P(E1) =  0.04788888888888889 , P(E2) =  0\n",
      "Noise Level :  0.05\n",
      "Filter: None : Accuracy =  0.823\n",
      "Filter: SF : Accuracy =  0.862 , P(E1) =  0.1782782078348581 , P(E2) =  0.10548523206751055\n",
      "Filter: MF : Accuracy =  0.856 , P(E1) =  0.20007057163020467 , P(E2) =  0.06827309236947791\n",
      "Filter: CF : Accuracy =  0.853 , P(E1) =  0.06476775794823307 , P(E2) =  0.1391465677179963\n",
      "Noise Level :  0.1\n",
      "Filter: None : Accuracy =  0.826\n",
      "Filter: SF : Accuracy =  0.863 , P(E1) =  0.18840579710144928 , P(E2) =  0.10140562248995984\n",
      "Filter: MF : Accuracy =  0.861 , P(E1) =  0.21354878806712244 , P(E2) =  0.07329842931937172\n",
      "Filter: CF : Accuracy =  0.835 , P(E1) =  0.06507619285535848 , P(E2) =  0.14185110663983905\n",
      "Noise Level :  0.15\n",
      "Filter: None : Accuracy =  0.81\n",
      "Filter: SF : Accuracy =  0.843 , P(E1) =  0.20245726495726496 , P(E2) =  0.08531746031746032\n",
      "Filter: MF : Accuracy =  0.845 , P(E1) =  0.22125552134921697 , P(E2) =  0.07717462393721386\n",
      "Filter: CF : Accuracy =  0.838 , P(E1) =  0.07737696124446829 , P(E2) =  0.13869086195722619\n",
      "Noise Level :  0.2\n",
      "Filter: None : Accuracy =  0.793\n",
      "Filter: SF : Accuracy =  0.831 , P(E1) =  0.21060909350872176 , P(E2) =  0.09421734795613161\n",
      "Filter: MF : Accuracy =  0.845 , P(E1) =  0.2394969991426122 , P(E2) =  0.06843156843156843\n",
      "Filter: CF : Accuracy =  0.826 , P(E1) =  0.08159175493844832 , P(E2) =  0.14349553128103276\n",
      "Noise Level :  0.25\n",
      "Filter: None : Accuracy =  0.773\n",
      "Filter: SF : Accuracy =  0.823 , P(E1) =  0.22488778826806996 , P(E2) =  0.08979913351713273\n",
      "Filter: MF : Accuracy =  0.843 , P(E1) =  0.25751734772552043 , P(E2) =  0.073558648111332\n",
      "Filter: CF : Accuracy =  0.804 , P(E1) =  0.08828052906797908 , P(E2) =  0.15812650120096078\n",
      "Noise Level :  0.3\n",
      "Filter: None : Accuracy =  0.749\n",
      "Filter: SF : Accuracy =  0.836 , P(E1) =  0.24662495884096147 , P(E2) =  0.08817498291182502\n",
      "Filter: MF : Accuracy =  0.821 , P(E1) =  0.27492901286119925 , P(E2) =  0.07102555592432791\n",
      "Filter: CF : Accuracy =  0.79 , P(E1) =  0.09632488672596073 , P(E2) =  0.15948701085169353\n",
      "Noise Level :  0.35\n",
      "Filter: None : Accuracy =  0.757\n",
      "Filter: SF : Accuracy =  0.822 , P(E1) =  0.2697126013264554 , P(E2) =  0.09154535274356103\n",
      "Filter: MF : Accuracy =  0.834 , P(E1) =  0.31313855529664814 , P(E2) =  0.07132417421806489\n",
      "Filter: CF : Accuracy =  0.781 , P(E1) =  0.10514826268873931 , P(E2) =  0.15643733942335142\n",
      "Noise Level :  0.4\n",
      "Filter: None : Accuracy =  0.707\n",
      "Filter: SF : Accuracy =  0.812 , P(E1) =  0.3018905872888174 , P(E2) =  0.09458788480635551\n",
      "Filter: MF : Accuracy =  0.807 , P(E1) =  0.3272946859903382 , P(E2) =  0.07787698412698413\n",
      "Filter: CF : Accuracy =  0.761 , P(E1) =  0.12112787926926132 , P(E2) =  0.16977800201816348\n"
     ]
    },
    {
     "data": {
      "image/png": "[encoded data removed]",
      "text/plain": [
       "<matplotlib.figure.Figure at 0x10329cda0>"
      ]
     },
     "metadata": {},
     "output_type": "display_data"
    }
   ],
   "source": [
    "%run -i 'script.py'"
   ]
  },
  {
   "cell_type": "markdown",
   "metadata": {},
   "source": []
  },
  {
   "cell_type": "code",
   "execution_count": null,
   "metadata": {
    "collapsed": true
   },
   "outputs": [],
   "source": []
  }
 ],
 "metadata": {
  "kernelspec": {
   "display_name": "Python 3",
   "language": "python",
   "name": "python3"
  },
  "language_info": {
   "codemirror_mode": {
    "name": "ipython",
    "version": 3
   },
   "file_extension": ".py",
   "mimetype": "text/x-python",
   "name": "python",
   "nbconvert_exporter": "python",
   "pygments_lexer": "ipython3",
   "version": "3.6.3"
  }
 },
 "nbformat": 4,
 "nbformat_minor": 2
}
