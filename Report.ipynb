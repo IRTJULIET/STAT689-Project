{
 "cells": [
  {
   "cell_type": "markdown",
   "metadata": {},
   "source": [
    "# Handling mislabeled training data for classification\n",
    "\n",
    "### TAMU 689-Stat Computing Course Project (https://longjp.github.io/statcomp/)"
   ]
  },
  {
   "cell_type": "markdown",
   "metadata": {},
   "source": [
    "### What is mislabeled data?\n",
    "\n",
    "- Data for classification problems in supervised learning, usually consists of a set of feature attributes and a class attribute.\n",
    "\n",
    "Tranining Data Point:  $(x_1, x_2, x_3, …, x_n, y)$\n",
    "A data point is considered *mislabeled* "
   ]
  }
 ],
 "metadata": {
  "kernelspec": {
   "display_name": "Python 3",
   "language": "python",
   "name": "python3"
  },
  "language_info": {
   "codemirror_mode": {
    "name": "ipython",
    "version": 3
   },
   "file_extension": ".py",
   "mimetype": "text/x-python",
   "name": "python",
   "nbconvert_exporter": "python",
   "pygments_lexer": "ipython3",
   "version": "3.6.5"
  }
 },
 "nbformat": 4,
 "nbformat_minor": 2
}
